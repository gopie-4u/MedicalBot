{
 "cells": [
  {
   "cell_type": "code",
   "execution_count": 1,
   "metadata": {},
   "outputs": [
    {
     "data": {
      "text/plain": [
       "'g:\\\\GKML\\\\genai_projects\\\\MedicalBot\\\\research'"
      ]
     },
     "execution_count": 1,
     "metadata": {},
     "output_type": "execute_result"
    }
   ],
   "source": [
    "%pwd"
   ]
  },
  {
   "cell_type": "code",
   "execution_count": 2,
   "metadata": {},
   "outputs": [],
   "source": [
    "import os\n",
    "os.chdir('../')"
   ]
  },
  {
   "cell_type": "code",
   "execution_count": 3,
   "metadata": {},
   "outputs": [
    {
     "data": {
      "text/plain": [
       "'g:\\\\GKML\\\\genai_projects\\\\MedicalBot'"
      ]
     },
     "execution_count": 3,
     "metadata": {},
     "output_type": "execute_result"
    }
   ],
   "source": [
    "%pwd"
   ]
  },
  {
   "cell_type": "code",
   "execution_count": 4,
   "metadata": {},
   "outputs": [],
   "source": [
    "from langchain_community.document_loaders import PyPDFLoader, DirectoryLoader\n",
    "from langchain.text_splitter import RecursiveCharacterTextSplitter"
   ]
  },
  {
   "cell_type": "markdown",
   "metadata": {},
   "source": [
    "# Extract data from pdf file"
   ]
  },
  {
   "cell_type": "code",
   "execution_count": 5,
   "metadata": {},
   "outputs": [],
   "source": [
    "def load_pdf_file(data):\n",
    "    loader = DirectoryLoader(path=data,\n",
    "                    glob=\"*.pdf\",\n",
    "                    loader_cls=PyPDFLoader)\n",
    "    documents = loader.load()\n",
    "    return documents"
   ]
  },
  {
   "cell_type": "code",
   "execution_count": 6,
   "metadata": {},
   "outputs": [],
   "source": [
    "extracted_data = load_pdf_file(data=\"Data/\" )"
   ]
  },
  {
   "cell_type": "code",
   "execution_count": 7,
   "metadata": {},
   "outputs": [
    {
     "data": {
      "text/plain": [
       "list"
      ]
     },
     "execution_count": 7,
     "metadata": {},
     "output_type": "execute_result"
    }
   ],
   "source": [
    "type(extracted_data)"
   ]
  },
  {
   "cell_type": "code",
   "execution_count": 8,
   "metadata": {},
   "outputs": [
    {
     "data": {
      "text/plain": [
       "637"
      ]
     },
     "execution_count": 8,
     "metadata": {},
     "output_type": "execute_result"
    }
   ],
   "source": [
    "len(extracted_data)"
   ]
  },
  {
   "cell_type": "code",
   "execution_count": 9,
   "metadata": {},
   "outputs": [
    {
     "data": {
      "text/plain": [
       "langchain_core.documents.base.Document"
      ]
     },
     "execution_count": 9,
     "metadata": {},
     "output_type": "execute_result"
    }
   ],
   "source": [
    "type(extracted_data[0])"
   ]
  },
  {
   "cell_type": "markdown",
   "metadata": {},
   "source": [
    "# split the data into chunks"
   ]
  },
  {
   "cell_type": "code",
   "execution_count": 10,
   "metadata": {},
   "outputs": [],
   "source": [
    "def text_split(extracted_data):\n",
    "    text_splitter = RecursiveCharacterTextSplitter(chunk_size=500,chunk_overlap=20)\n",
    "    text_chunks = text_splitter.split_documents(extracted_data)\n",
    "    return text_chunks"
   ]
  },
  {
   "cell_type": "code",
   "execution_count": 11,
   "metadata": {},
   "outputs": [],
   "source": [
    "text_chunks = text_split(extracted_data)"
   ]
  },
  {
   "cell_type": "code",
   "execution_count": 12,
   "metadata": {},
   "outputs": [
    {
     "name": "stdout",
     "output_type": "stream",
     "text": [
      "Length :  5860\n"
     ]
    }
   ],
   "source": [
    "print(\"Length : \",len(text_chunks))"
   ]
  },
  {
   "cell_type": "markdown",
   "metadata": {},
   "source": [
    "# Embedding Model"
   ]
  },
  {
   "cell_type": "code",
   "execution_count": 13,
   "metadata": {},
   "outputs": [],
   "source": [
    "from langchain_google_genai import GoogleGenerativeAIEmbeddings"
   ]
  },
  {
   "cell_type": "code",
   "execution_count": 14,
   "metadata": {},
   "outputs": [],
   "source": [
    "def get_gemini_embeddings():\n",
    "    embeddings = GoogleGenerativeAIEmbeddings(model=\"models/embedding-001\")\n",
    "    return embeddings"
   ]
  },
  {
   "cell_type": "code",
   "execution_count": 15,
   "metadata": {},
   "outputs": [],
   "source": [
    "embeddings = get_gemini_embeddings()"
   ]
  },
  {
   "cell_type": "code",
   "execution_count": 16,
   "metadata": {},
   "outputs": [
    {
     "data": {
      "text/plain": [
       "768"
      ]
     },
     "execution_count": 16,
     "metadata": {},
     "output_type": "execute_result"
    }
   ],
   "source": [
    "query_result = embeddings.embed_query(\"Hello\")\n",
    "len(query_result)"
   ]
  },
  {
   "cell_type": "markdown",
   "metadata": {},
   "source": [
    "# Load Environment variables"
   ]
  },
  {
   "cell_type": "code",
   "execution_count": 17,
   "metadata": {},
   "outputs": [],
   "source": [
    "from dotenv import load_dotenv\n",
    "load_dotenv()\n",
    "import os"
   ]
  },
  {
   "cell_type": "code",
   "execution_count": 18,
   "metadata": {},
   "outputs": [],
   "source": [
    "GROQ_API_KEY=os.getenv(\"GROQ_API_KEY\")\n",
    "GOOGLE_API_KEY=os.getenv(\"GOOGLE_API_KEY\")\n",
    "PINECONE_API_KEY=os.getenv(\"PINECONE_API_KEY\")"
   ]
  },
  {
   "cell_type": "code",
   "execution_count": 19,
   "metadata": {},
   "outputs": [],
   "source": [
    "os.environ[\"GROQ_API_KEY\"] = GROQ_API_KEY\n",
    "os.environ[\"GOOGLE_API_KEY\"] = GOOGLE_API_KEY\n",
    "os.environ[\"PINECONE_API_KEY\"] = PINECONE_API_KEY"
   ]
  },
  {
   "cell_type": "markdown",
   "metadata": {},
   "source": [
    "# Vector Store/ Vector Embeddings\n",
    "\n",
    "- pine cone"
   ]
  },
  {
   "cell_type": "markdown",
   "metadata": {},
   "source": [
    "## create pinecone index "
   ]
  },
  {
   "cell_type": "code",
   "execution_count": 20,
   "metadata": {},
   "outputs": [],
   "source": [
    "from pinecone.grpc import PineconeGRPC as Pinecone\n",
    "from pinecone import ServerlessSpec\n"
   ]
  },
  {
   "cell_type": "code",
   "execution_count": 21,
   "metadata": {},
   "outputs": [],
   "source": [
    "pc = Pinecone(api_key=PINECONE_API_KEY)"
   ]
  },
  {
   "cell_type": "code",
   "execution_count": 22,
   "metadata": {},
   "outputs": [],
   "source": [
    "index_name = \"medicalvdb\""
   ]
  },
  {
   "cell_type": "code",
   "execution_count": null,
   "metadata": {},
   "outputs": [
    {
     "data": {
      "text/plain": [
       "['gkbot', 'medicalbot']"
      ]
     },
     "execution_count": 24,
     "metadata": {},
     "output_type": "execute_result"
    }
   ],
   "source": [
    "index_list = pc.list_indexes().names()\n",
    "index_list"
   ]
  },
  {
   "cell_type": "markdown",
   "metadata": {},
   "source": [
    "- name\n",
    "- metric\n",
    "- dimension\n",
    "- cloud service provider\n",
    "- region"
   ]
  },
  {
   "cell_type": "code",
   "execution_count": 25,
   "metadata": {},
   "outputs": [],
   "source": [
    "if index_name not in index_list:\n",
    "    pc.create_index(name=index_name,\n",
    "                    dimension=768,\n",
    "                    metric='cosine',\n",
    "                    spec = ServerlessSpec(cloud=\"aws\",\n",
    "                                          region=\"us-east-1\"))"
   ]
  },
  {
   "cell_type": "markdown",
   "metadata": {},
   "source": [
    "# Embed and upsert to Pinecone"
   ]
  },
  {
   "cell_type": "code",
   "execution_count": 26,
   "metadata": {},
   "outputs": [],
   "source": [
    "from langchain_pinecone import PineconeVectorStore"
   ]
  },
  {
   "cell_type": "code",
   "execution_count": null,
   "metadata": {},
   "outputs": [],
   "source": [
    "docsearch = PineconeVectorStore.from_documents(documents=text_chunks,\n",
    "                                   embedding=embeddings,\n",
    "                                   index_name=index_name)"
   ]
  },
  {
   "cell_type": "markdown",
   "metadata": {},
   "source": [
    "# Retriever"
   ]
  },
  {
   "cell_type": "code",
   "execution_count": 28,
   "metadata": {},
   "outputs": [],
   "source": [
    "retriever = docsearch.as_retriever(search_type=\"similarity\",search_kwargs={\"k\":2})"
   ]
  },
  {
   "cell_type": "code",
   "execution_count": 29,
   "metadata": {},
   "outputs": [],
   "source": [
    "response = retriever.invoke(\"what is Abscess\")"
   ]
  },
  {
   "cell_type": "code",
   "execution_count": 30,
   "metadata": {},
   "outputs": [
    {
     "data": {
      "text/plain": [
       "[Document(id='fe66df0e-6800-4f1d-8ded-80532a1bc7ec', metadata={'creationdate': '2004-12-18T17:00:02-05:00', 'creator': 'PyPDF', 'moddate': '2004-12-18T16:15:31-06:00', 'page': 29.0, 'page_label': '30', 'producer': 'PDFlib+PDI 5.0.0 (SunOS)', 'source': 'Data\\\\Medical_book.pdf', 'total_pages': 637.0}, page_content='Normal results\\nMost abscesses heal after drainage alone; others\\nrequire drainage and antibiotic drug treatment.\\nResources\\nBOOKS\\nTurkington, Carol A., and Jeffrey S. Dover. Skin Deep. New\\nYork: Facts on File, 1998.\\nKEY TERMS\\nWhite blood cells —Cells that protect the body\\nagainst infection.\\nORGANIZATIONS\\nNational Institute of Arthritis and Musculoskeletal and Skin\\nDiseases. 9000 Rockville Pike, Bldg. 31, Rm 9A04,\\nBethesda, MD 20892.\\nCarol A. Turkington\\nAbuse\\nDefinition'),\n",
       " Document(id='77b873af-8330-4401-bb37-7ea3b3588b30', metadata={'creationdate': '2004-12-18T17:00:02-05:00', 'creator': 'PyPDF', 'moddate': '2004-12-18T16:15:31-06:00', 'page': 28.0, 'page_label': '29', 'producer': 'PDFlib+PDI 5.0.0 (SunOS)', 'source': 'Data\\\\Medical_book.pdf', 'total_pages': 637.0}, page_content='Because the lining of the abscess cavity tends to\\ninterfere with the amount of the drug that can penetrate\\nthe source of infection from the blood, the cavity itself\\nmay require draining. Once an abscess has fully formed,\\nit often does not respond to antibiotics. Even if the\\nantibiotic does penetrate into the abscess, it doesn’t func-\\ntion as well in that environment.\\nPrecautions\\nAn abscess can usually be diagnosed visually, al-\\nthough an imaging technique such as a computed tomog-')]"
      ]
     },
     "execution_count": 30,
     "metadata": {},
     "output_type": "execute_result"
    }
   ],
   "source": [
    "response"
   ]
  },
  {
   "cell_type": "code",
   "execution_count": 31,
   "metadata": {},
   "outputs": [
    {
     "name": "stdout",
     "output_type": "stream",
     "text": [
      "Normal results\n",
      "Most abscesses heal after drainage alone; others\n",
      "require drainage and antibiotic drug treatment.\n",
      "Resources\n",
      "BOOKS\n",
      "Turkington, Carol A., and Jeffrey S. Dover. Skin Deep. New\n",
      "York: Facts on File, 1998.\n",
      "KEY TERMS\n",
      "White blood cells —Cells that protect the body\n",
      "against infection.\n",
      "ORGANIZATIONS\n",
      "National Institute of Arthritis and Musculoskeletal and Skin\n",
      "Diseases. 9000 Rockville Pike, Bldg. 31, Rm 9A04,\n",
      "Bethesda, MD 20892.\n",
      "Carol A. Turkington\n",
      "Abuse\n",
      "Definition\n",
      "--------------------------------------------------------------------------------\n",
      "Because the lining of the abscess cavity tends to\n",
      "interfere with the amount of the drug that can penetrate\n",
      "the source of infection from the blood, the cavity itself\n",
      "may require draining. Once an abscess has fully formed,\n",
      "it often does not respond to antibiotics. Even if the\n",
      "antibiotic does penetrate into the abscess, it doesn’t func-\n",
      "tion as well in that environment.\n",
      "Precautions\n",
      "An abscess can usually be diagnosed visually, al-\n",
      "though an imaging technique such as a computed tomog-\n",
      "--------------------------------------------------------------------------------\n"
     ]
    }
   ],
   "source": [
    "for i in response:\n",
    "    print(i.page_content)\n",
    "    print('-'*80)"
   ]
  },
  {
   "cell_type": "code",
   "execution_count": 32,
   "metadata": {},
   "outputs": [
    {
     "data": {
      "text/plain": [
       "[Document(id='9ca4c7db-02a0-40fc-ab9c-579cf51255ec', metadata={'creationdate': '2004-12-18T17:00:02-05:00', 'creator': 'PyPDF', 'moddate': '2004-12-18T16:15:31-06:00', 'page': 117.0, 'page_label': '118', 'producer': 'PDFlib+PDI 5.0.0 (SunOS)', 'source': 'Data\\\\Medical_book.pdf', 'total_pages': 637.0}, page_content='especially adults, have very strong tension habits associ-\\nated with movement. Chronic misuse of the muscles is\\ncommon. It may be caused by slouching in front of tele-\\nvisions or video monitors, too much sitting or driving\\nand too little walking, or by tension associated with past\\ntraumas and injuries. Stiffening the neck after a\\nwhiplashinjury or favoring a broken or sprained leg\\nlong after it has healed are examples of habitual tension\\ncaused by injury.'),\n",
       " Document(id='da3fae9d-6fa8-4ad9-9565-180773bb5d1e', metadata={'creationdate': '2004-12-18T17:00:02-05:00', 'creator': 'PyPDF', 'moddate': '2004-12-18T16:15:31-06:00', 'page': 118.0, 'page_label': '119', 'producer': 'PDFlib+PDI 5.0.0 (SunOS)', 'source': 'Data\\\\Medical_book.pdf', 'total_pages': 637.0}, page_content='aware of chronic tension patterns. As students learn to\\nrelease excessive tension in their muscles and to sustain\\nthis release in daily activity, they may experience tight-\\nness or soreness in the connective tissue. This is caused\\nby the connective tissue adapting to the lengthened and\\nreleased muscles and the expanded range of movement\\nin the joints.\\nOccasionally students may get light-headed during a\\nlesson as contracted muscles release and effect the circu-\\nlatory or respiratory functioning.')]"
      ]
     },
     "execution_count": 32,
     "metadata": {},
     "output_type": "execute_result"
    }
   ],
   "source": [
    "retriever.invoke(\"what is hyper tension\")"
   ]
  },
  {
   "cell_type": "code",
   "execution_count": 34,
   "metadata": {},
   "outputs": [
    {
     "data": {
      "text/plain": [
       "[Document(id='4a827428-34e6-413d-9b7e-746cb064f3c4', metadata={'creationdate': '2004-12-18T17:00:02-05:00', 'creator': 'PyPDF', 'moddate': '2004-12-18T16:15:31-06:00', 'page': 566.0, 'page_label': '567', 'producer': 'PDFlib+PDI 5.0.0 (SunOS)', 'source': 'Data\\\\Medical_book.pdf', 'total_pages': 637.0}, page_content='(T cells and B cells), lymph nodes, bone marrow,\\nand the spleen. Abnormal cells (lymphocyte/leuko-\\ncyte) multiply uncontrollably.\\nMatch—How similar the HLA typing, out of a pos-\\nsible six antigens, is between the donor and the\\nrecipient.\\nMixed lymphocyte culture (MLC) —Test that mea-\\nsures level of reactivity between donor and recipi-\\nent lymphocytes.\\nNeuroblastoma —Solid tumor in children, may be\\ntreated by BMT.\\nPlatelets —Fragments of a large precursor cell, a'),\n",
       " Document(id='ef9f7f2b-0d04-475c-b032-67586d8c1165', metadata={'creationdate': '2004-12-18T17:00:02-05:00', 'creator': 'PyPDF', 'moddate': '2004-12-18T16:15:31-06:00', 'page': 565.0, 'page_label': '566', 'producer': 'PDFlib+PDI 5.0.0 (SunOS)', 'source': 'Data\\\\Medical_book.pdf', 'total_pages': 637.0}, page_content='particularly cancer, with drugs or other chemicals.\\nChronic myelogenous leukemia (CML) —Also\\ncalled chronic myelocytic leukemia, malignant dis-\\norder that involves abnormal accumulation of white\\ncells in the marrow and bloodstream.\\nCytomegalovirus (CMV) —Virus that can cause\\npneumonia in post bone marrow transplant patients.\\nConditioning —Process of preparing patient to\\nreceive marrow donation, often through the use of\\nchemotherapy and radiation therapy.')]"
      ]
     },
     "execution_count": 34,
     "metadata": {},
     "output_type": "execute_result"
    }
   ],
   "source": [
    "retriever.invoke(\"what is llm\")"
   ]
  },
  {
   "cell_type": "markdown",
   "metadata": {},
   "source": [
    "# LLM"
   ]
  },
  {
   "cell_type": "code",
   "execution_count": 35,
   "metadata": {},
   "outputs": [],
   "source": [
    "from langchain_groq import ChatGroq\n",
    "llm = ChatGroq(model=\"llama3-70b-8192\")"
   ]
  },
  {
   "cell_type": "markdown",
   "metadata": {},
   "source": [
    "## Legacy chain creation"
   ]
  },
  {
   "cell_type": "code",
   "execution_count": 39,
   "metadata": {},
   "outputs": [],
   "source": [
    "from langchain.chains import create_retrieval_chain\n",
    "from langchain.chains.combine_documents import create_stuff_documents_chain\n",
    "from langchain_core.prompts import ChatPromptTemplate"
   ]
  },
  {
   "cell_type": "code",
   "execution_count": 37,
   "metadata": {},
   "outputs": [],
   "source": [
    "system_prompt = (\n",
    "    \"You are an assistant for question-answering tasks. \"\n",
    "    \"Use the following pieces of retrieved context to answer \"\n",
    "    \"the question. If you don't know the answer, say that you \"\n",
    "    \"don't know. Use three sentences maximum and keep the \"\n",
    "    \"answer concise.\"\n",
    "    \"\\n\\n\"\n",
    "    \"{context}\"\n",
    ")"
   ]
  },
  {
   "cell_type": "code",
   "execution_count": 38,
   "metadata": {},
   "outputs": [],
   "source": [
    "prompt = ChatPromptTemplate.from_messages(\n",
    "    [\n",
    "        (\"system\",system_prompt),\n",
    "        (\"human\",\"{input}\")\n",
    "    ]\n",
    ")"
   ]
  },
  {
   "cell_type": "code",
   "execution_count": 40,
   "metadata": {},
   "outputs": [],
   "source": [
    "q_a_chain = create_stuff_documents_chain(llm,prompt)\n",
    "rag_chain = create_retrieval_chain(retriever,q_a_chain)"
   ]
  },
  {
   "cell_type": "code",
   "execution_count": 41,
   "metadata": {},
   "outputs": [
    {
     "data": {
      "text/plain": [
       "{'input': 'what is Achalasia',\n",
       " 'context': [Document(id='43c5f9cb-7af7-4afb-be40-76e9d41d023e', metadata={'creationdate': '2004-12-18T17:00:02-05:00', 'creator': 'PyPDF', 'moddate': '2004-12-18T16:15:31-06:00', 'page': 33.0, 'page_label': '34', 'producer': 'PDFlib+PDI 5.0.0 (SunOS)', 'source': 'Data\\\\Medical_book.pdf', 'total_pages': 637.0}, page_content='ation is unknown. Autoimmune disease or hidden infec-\\ntion is suspected.\\nSymptoms\\nDysphagia, or difficulty swallowing, is the most com-\\nmon symptom of achalasia. The person with achalasia usu-\\nally has trouble swallowing both liquid and solid foods,\\noften feeling that food “gets stuck” on the way down. The\\nperson has chest pain that is often mistaken for angina\\npectoris (cardiac pain). Heartburn and difficulty belching\\nare common. Symptoms usually get steadily worse. Other'),\n",
       "  Document(id='34babfb8-335c-4e79-8d26-0e12a593bb94', metadata={'creationdate': '2004-12-18T17:00:02-05:00', 'creator': 'PyPDF', 'moddate': '2004-12-18T16:15:31-06:00', 'page': 33.0, 'page_label': '34', 'producer': 'PDFlib+PDI 5.0.0 (SunOS)', 'source': 'Data\\\\Medical_book.pdf', 'total_pages': 637.0}, page_content='food along the esophagus. Normally, peristalsis causes the\\nesophageal sphincter to relax and allow food into the stom-\\nach. In achalasia, which means “failure to relax,” the\\nesophageal sphincter remains contracted. Normal peristal-\\nsis is interrupted and food cannot enter the stomach.\\nCauses and symptoms\\nCauses\\nAchalasia is caused by degeneration of the nerve\\ncells that normally signal the brain to relax the\\nesophageal sphincter. The ultimate cause of this degener-')],\n",
       " 'answer': 'Achalasia is a condition where the esophageal sphincter remains contracted, interrupting normal peristalsis and preventing food from entering the stomach. This causes symptoms such as dysphagia (difficulty swallowing), chest pain, heartburn, and difficulty belching. The ultimate cause of achalasia is the degeneration of nerve cells that normally signal the brain to relax the esophageal sphincter.'}"
      ]
     },
     "execution_count": 41,
     "metadata": {},
     "output_type": "execute_result"
    }
   ],
   "source": [
    "response1 = rag_chain.invoke({\"input\":\"what is Achalasia\"})\n",
    "response1"
   ]
  },
  {
   "cell_type": "code",
   "execution_count": 42,
   "metadata": {},
   "outputs": [
    {
     "data": {
      "text/plain": [
       "'Achalasia is a condition where the esophageal sphincter remains contracted, interrupting normal peristalsis and preventing food from entering the stomach. This causes symptoms such as dysphagia (difficulty swallowing), chest pain, heartburn, and difficulty belching. The ultimate cause of achalasia is the degeneration of nerve cells that normally signal the brain to relax the esophageal sphincter.'"
      ]
     },
     "execution_count": 42,
     "metadata": {},
     "output_type": "execute_result"
    }
   ],
   "source": [
    "response1['answer']"
   ]
  },
  {
   "cell_type": "code",
   "execution_count": 43,
   "metadata": {},
   "outputs": [
    {
     "name": "stdout",
     "output_type": "stream",
     "text": [
      "Achalasia is a condition where the esophageal sphincter remains contracted, interrupting normal peristalsis and preventing food from entering the stomach. This causes symptoms such as dysphagia (difficulty swallowing), chest pain, heartburn, and difficulty belching. The ultimate cause of achalasia is the degeneration of nerve cells that normally signal the brain to relax the esophageal sphincter.\n"
     ]
    }
   ],
   "source": [
    "print(response1['answer'])"
   ]
  },
  {
   "cell_type": "code",
   "execution_count": 44,
   "metadata": {},
   "outputs": [
    {
     "data": {
      "text/plain": [
       "'I don\\'t know. The provided context does not mention the term \"probability\" or provide any information related to it.'"
      ]
     },
     "execution_count": 44,
     "metadata": {},
     "output_type": "execute_result"
    }
   ],
   "source": [
    "response1 = rag_chain.invoke({\"input\":\"what is probability\"})\n",
    "response1['answer']"
   ]
  },
  {
   "cell_type": "markdown",
   "metadata": {},
   "source": [
    "## LCEL Chains"
   ]
  },
  {
   "cell_type": "code",
   "execution_count": 45,
   "metadata": {},
   "outputs": [],
   "source": [
    "from langchain_core.runnables import RunnablePassthrough\n",
    "from langchain_core.output_parsers import StrOutputParser"
   ]
  },
  {
   "cell_type": "code",
   "execution_count": 46,
   "metadata": {},
   "outputs": [],
   "source": [
    "system_prompt = (\n",
    "    \"You are an assistant for question-answering tasks. \"\n",
    "    \"Use the following pieces of retrieved context to answer \"\n",
    "    \"the question. If you don't know the answer, say that you \"\n",
    "    \"don't know. Use three sentences maximum and keep the \"\n",
    "    \"answer concise.\"\n",
    "    \"\\n\\n\"\n",
    "    \"{context}\"\n",
    ")"
   ]
  },
  {
   "cell_type": "code",
   "execution_count": 47,
   "metadata": {},
   "outputs": [],
   "source": [
    "prompt = ChatPromptTemplate.from_messages(\n",
    "    [\n",
    "        (\"system\",system_prompt),\n",
    "        (\"human\",\"{input}\")\n",
    "    ]\n",
    ")"
   ]
  },
  {
   "cell_type": "code",
   "execution_count": 48,
   "metadata": {},
   "outputs": [],
   "source": [
    "rag_chain1 = (\n",
    "    {\n",
    "        \"context\": retriever |(lambda docs: \"\\n\\n\".join(doc.page_content for doc in docs)),\n",
    "        \"input\": RunnablePassthrough()\n",
    "    }\n",
    "    | prompt\n",
    "    | llm\n",
    "    | StrOutputParser()\n",
    ")"
   ]
  },
  {
   "cell_type": "code",
   "execution_count": 49,
   "metadata": {},
   "outputs": [
    {
     "data": {
      "text/plain": [
       "'Achalasia is a condition where the esophageal sphincter remains contracted, interrupting normal peristalsis and preventing food from entering the stomach.'"
      ]
     },
     "execution_count": 49,
     "metadata": {},
     "output_type": "execute_result"
    }
   ],
   "source": [
    "rag_chain1.invoke(\"what is Achalasia\")"
   ]
  },
  {
   "cell_type": "code",
   "execution_count": 50,
   "metadata": {},
   "outputs": [
    {
     "data": {
      "text/plain": [
       "'I don\\'t know. The provided context does not mention the term \"probability\" or provide any information related to it.'"
      ]
     },
     "execution_count": 50,
     "metadata": {},
     "output_type": "execute_result"
    }
   ],
   "source": [
    "rag_chain1.invoke(\"what is probability\")"
   ]
  },
  {
   "cell_type": "markdown",
   "metadata": {},
   "source": [
    "# Read the data from the existing index of Pinecone"
   ]
  },
  {
   "cell_type": "code",
   "execution_count": 51,
   "metadata": {},
   "outputs": [],
   "source": [
    "from langchain_pinecone import PineconeVectorStore"
   ]
  },
  {
   "cell_type": "code",
   "execution_count": 52,
   "metadata": {},
   "outputs": [],
   "source": [
    "index_name = \"medicalvdb\""
   ]
  },
  {
   "cell_type": "code",
   "execution_count": 53,
   "metadata": {},
   "outputs": [],
   "source": [
    "vectorstore = PineconeVectorStore.from_existing_index(index_name=index_name,\n",
    "                                        embedding=embeddings)"
   ]
  },
  {
   "cell_type": "code",
   "execution_count": 55,
   "metadata": {},
   "outputs": [],
   "source": [
    "retriever = vectorstore.as_retriever(search_type=\"similarity\",search_kwargs={\"k\":2})"
   ]
  },
  {
   "cell_type": "code",
   "execution_count": 57,
   "metadata": {},
   "outputs": [
    {
     "data": {
      "text/plain": [
       "[Document(id='43c5f9cb-7af7-4afb-be40-76e9d41d023e', metadata={'creationdate': '2004-12-18T17:00:02-05:00', 'creator': 'PyPDF', 'moddate': '2004-12-18T16:15:31-06:00', 'page': 33.0, 'page_label': '34', 'producer': 'PDFlib+PDI 5.0.0 (SunOS)', 'source': 'Data\\\\Medical_book.pdf', 'total_pages': 637.0}, page_content='ation is unknown. Autoimmune disease or hidden infec-\\ntion is suspected.\\nSymptoms\\nDysphagia, or difficulty swallowing, is the most com-\\nmon symptom of achalasia. The person with achalasia usu-\\nally has trouble swallowing both liquid and solid foods,\\noften feeling that food “gets stuck” on the way down. The\\nperson has chest pain that is often mistaken for angina\\npectoris (cardiac pain). Heartburn and difficulty belching\\nare common. Symptoms usually get steadily worse. Other'),\n",
       " Document(id='34babfb8-335c-4e79-8d26-0e12a593bb94', metadata={'creationdate': '2004-12-18T17:00:02-05:00', 'creator': 'PyPDF', 'moddate': '2004-12-18T16:15:31-06:00', 'page': 33.0, 'page_label': '34', 'producer': 'PDFlib+PDI 5.0.0 (SunOS)', 'source': 'Data\\\\Medical_book.pdf', 'total_pages': 637.0}, page_content='food along the esophagus. Normally, peristalsis causes the\\nesophageal sphincter to relax and allow food into the stom-\\nach. In achalasia, which means “failure to relax,” the\\nesophageal sphincter remains contracted. Normal peristal-\\nsis is interrupted and food cannot enter the stomach.\\nCauses and symptoms\\nCauses\\nAchalasia is caused by degeneration of the nerve\\ncells that normally signal the brain to relax the\\nesophageal sphincter. The ultimate cause of this degener-')]"
      ]
     },
     "execution_count": 57,
     "metadata": {},
     "output_type": "execute_result"
    }
   ],
   "source": [
    "resp1 = retriever.invoke(\"what is Achalasia\")\n",
    "resp1"
   ]
  },
  {
   "cell_type": "code",
   "execution_count": null,
   "metadata": {},
   "outputs": [],
   "source": []
  }
 ],
 "metadata": {
  "kernelspec": {
   "display_name": "Python 3",
   "language": "python",
   "name": "python3"
  },
  "language_info": {
   "codemirror_mode": {
    "name": "ipython",
    "version": 3
   },
   "file_extension": ".py",
   "mimetype": "text/x-python",
   "name": "python",
   "nbconvert_exporter": "python",
   "pygments_lexer": "ipython3",
   "version": "3.10.16"
  }
 },
 "nbformat": 4,
 "nbformat_minor": 2
}
